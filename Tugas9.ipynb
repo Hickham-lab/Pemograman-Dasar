{
 "cells": [
  {
   "cell_type": "code",
   "execution_count": 2,
   "metadata": {},
   "outputs": [],
   "source": [
    "data_panen = {\n",
    "    'lokasi1': {\n",
    "        \"nama_lokasi\": \"Kebun A\",\n",
    "        \"hasil_panen\": {\n",
    "            \"padi\": 1200,\n",
    "            \"jagung\": 800,\n",
    "            \"kedelai\": 500\n",
    "        }\n",
    "    },\n",
    "    'lokasi2': {\n",
    "        \"nama_lokasi\": \"Kebun B\",\n",
    "        \"hasil_panen\": {\n",
    "            \"padi\": 1500,\n",
    "            \"jagung\": 900,\n",
    "            \"kedelai\": 450\n",
    "        }\n",
    "    },\n",
    "    'lokasi3': {\n",
    "        \"nama_lokasi\": \"Kebun C\",\n",
    "        \"hasil_panen\": {\n",
    "            \"padi\": 1100,\n",
    "            \"jagung\": 750,\n",
    "            \"kedelai\": 600\n",
    "        }\n",
    "    },\n",
    "    'lokasi4': {\n",
    "        \"nama_lokasi\": \"Kebun D\",\n",
    "        \"hasil_panen\": {\n",
    "            \"padi\": 1300,\n",
    "            \"jagung\": 850,\n",
    "            \"kedelai\": 550\n",
    "        }\n",
    "    },\n",
    "    'lokasi5': {\n",
    "        \"nama_lokasi\": \"Kebun E\",\n",
    "        \"hasil_panen\": {\n",
    "            \"padi\": 1400,\n",
    "            \"jagung\": 950,\n",
    "            \"kedelai\": 480\n",
    "        }\n",
    "    }\n",
    "}\n"
   ]
  },
  {
   "cell_type": "code",
   "execution_count": 3,
   "metadata": {},
   "outputs": [
    {
     "name": "stdout",
     "output_type": "stream",
     "text": [
      "Lokasi: Kebun A\n",
      "Hasil Panen: {'padi': 1200, 'jagung': 800, 'kedelai': 500}\n",
      "\n",
      "Lokasi: Kebun B\n",
      "Hasil Panen: {'padi': 1500, 'jagung': 900, 'kedelai': 450}\n",
      "\n",
      "Lokasi: Kebun C\n",
      "Hasil Panen: {'padi': 1100, 'jagung': 750, 'kedelai': 600}\n",
      "\n",
      "Lokasi: Kebun D\n",
      "Hasil Panen: {'padi': 1300, 'jagung': 850, 'kedelai': 550}\n",
      "\n",
      "Lokasi: Kebun E\n",
      "Hasil Panen: {'padi': 1400, 'jagung': 950, 'kedelai': 480}\n",
      "\n"
     ]
    }
   ],
   "source": [
    "# soal no 1\n",
    "for lokasi, data in data_panen.items():\n",
    "    print(f\"Lokasi: {data['nama_lokasi']}\")\n",
    "    print(f\"Hasil Panen: {data['hasil_panen']}\")\n",
    "    print() #pembatas antar data"
   ]
  },
  {
   "cell_type": "code",
   "execution_count": 4,
   "metadata": {},
   "outputs": [
    {
     "name": "stdout",
     "output_type": "stream",
     "text": [
      "hasil panen jagung :  900\n"
     ]
    }
   ],
   "source": [
    "# soal no 2\n",
    "print(\"hasil panen jagung : \", data_panen['lokasi2']['hasil_panen']['jagung'])"
   ]
  },
  {
   "cell_type": "code",
   "execution_count": 5,
   "metadata": {},
   "outputs": [
    {
     "name": "stdout",
     "output_type": "stream",
     "text": [
      "nama lokasi 3 :  Kebun C\n"
     ]
    }
   ],
   "source": [
    "# soal no 3\n",
    "print(\"nama lokasi 3 : \", data_panen['lokasi3']['nama_lokasi'])"
   ]
  },
  {
   "cell_type": "code",
   "execution_count": 6,
   "metadata": {},
   "outputs": [
    {
     "name": "stdout",
     "output_type": "stream",
     "text": [
      "Total hasil panen padi: 6500 kg\n",
      "Total hasil panen kedelai: 2580 kg\n"
     ]
    }
   ],
   "source": [
    "# soal no 4\n",
    "# inisialisasi variable\n",
    "total_padi = 0\n",
    "total_kedelai = 0\n",
    "\n",
    "for lokasi, data in data_panen.items():\n",
    "    total_padi += data['hasil_panen']['padi']\n",
    "    total_kedelai += data['hasil_panen']['kedelai']\n",
    "\n",
    "print(f\"Total hasil panen padi: {total_padi} kg\")\n",
    "print(f\"Total hasil panen kedelai: {total_kedelai} kg\")\n"
   ]
  },
  {
   "cell_type": "code",
   "execution_count": 7,
   "metadata": {},
   "outputs": [
    {
     "name": "stdout",
     "output_type": "stream",
     "text": [
      "Jumlah Hasil Panen Padi Per Lokasi:\n",
      "lokasi1: 1200 kg\n",
      "lokasi2: 1500 kg\n",
      "lokasi3: 1100 kg\n",
      "lokasi4: 1300 kg\n",
      "lokasi5: 1400 kg\n",
      "\n",
      "Jumlah Hasil Panen Kedelai Per Lokasi:\n",
      "lokasi1: 500 kg\n",
      "lokasi2: 450 kg\n",
      "lokasi3: 600 kg\n",
      "lokasi4: 550 kg\n",
      "lokasi5: 480 kg\n"
     ]
    }
   ],
   "source": [
    "# soal no 5\n",
    "# buat dictionary untuk simpan hasil panen\n",
    "padi_per_lokasi = {}\n",
    "kedelai_per_lokasi = {}\n",
    "\n",
    "for lokasi, data in data_panen.items():\n",
    "    padi_per_lokasi[lokasi] = data['hasil_panen']['padi']\n",
    "    kedelai_per_lokasi[lokasi] = data['hasil_panen']['kedelai']\n",
    "\n",
    "print(\"Jumlah Hasil Panen Padi Per Lokasi:\")\n",
    "for lokasi, padi in padi_per_lokasi.items():\n",
    "    print(f\"{lokasi}: {padi} kg\")\n",
    "\n",
    "print(\"\\nJumlah Hasil Panen Kedelai Per Lokasi:\")\n",
    "for lokasi, kedelai in kedelai_per_lokasi.items():\n",
    "    print(f\"{lokasi}: {kedelai} kg\")\n"
   ]
  },
  {
   "cell_type": "code",
   "execution_count": 8,
   "metadata": {},
   "outputs": [
    {
     "name": "stdout",
     "output_type": "stream",
     "text": [
      "Kebun A dalam kondisi baik.\n",
      "Kebun B memerlukan perhatian khusus.\n",
      "Kebun C dalam kondisi baik.\n",
      "Kebun D memerlukan perhatian khusus.\n",
      "Kebun E memerlukan perhatian khusus.\n"
     ]
    }
   ],
   "source": [
    "# soal no 6\n",
    "for lokasi, data in data_panen.items():\n",
    "    padi = data['hasil_panen']['padi']\n",
    "    jagung = data['hasil_panen']['jagung']\n",
    "    \n",
    "    if padi > 1300 or jagung > 800:\n",
    "        print(f\"{data['nama_lokasi']} memerlukan perhatian khusus.\")\n",
    "    else:\n",
    "        print(f\"{data['nama_lokasi']} dalam kondisi baik.\")\n"
   ]
  },
  {
   "cell_type": "code",
   "execution_count": null,
   "metadata": {},
   "outputs": [],
   "source": [
    "print(\"Tambahan data baru untuk branch Baruuu\")"
   ]
  }
 ],
 "metadata": {
  "kernelspec": {
   "display_name": "base",
   "language": "python",
   "name": "python3"
  },
  "language_info": {
   "codemirror_mode": {
    "name": "ipython",
    "version": 3
   },
   "file_extension": ".py",
   "mimetype": "text/x-python",
   "name": "python",
   "nbconvert_exporter": "python",
   "pygments_lexer": "ipython3",
   "version": "3.12.4"
  }
 },
 "nbformat": 4,
 "nbformat_minor": 2
}
